{
 "cells": [
  {
   "cell_type": "code",
   "execution_count": 15,
   "metadata": {},
   "outputs": [
    {
     "name": "stdout",
     "output_type": "stream",
     "text": [
      "Homework #1\n"
     ]
    }
   ],
   "source": [
    "from selenium import webdriver\n",
    "from selenium.webdriver.common.keys import Keys\n",
    "from selenium.webdriver.chrome.options import Options\n",
    "from selenium.webdriver.common.by import By\n",
    "#Initiates driver chrome client through specific path\n",
    "\n",
    "options = Options()\n",
    "options.binary_location = \"C:\\Program Files (x86)\\Google\\Chrome\\Application\\chrome.exe\"\n",
    "driver = webdriver.Chrome(options=options, executable_path=r\"C:\\Program Files (x86)\\Google\\chromedriver.exe\", )\n",
    "\n",
    "#driver goes to website #1\n",
    "driver.get(\"https://www.gradescope.com\")\n",
    "\n",
    "#check if correct site\n",
    "assert \"Gradescope\" in driver.title\n",
    "\n",
    "#locate login button and click\n",
    "login_element = driver.find_element_by_xpath(\"(//button[@type='button'])[2]\")\n",
    "login_element.click()\n",
    "\n",
    "#login email information\n",
    "username_element = driver.find_element_by_id('session_email')\n",
    "username_element.send_keys(\"nlfang@cpp.edu\")\n",
    "password_element = driver.find_element_by_id('session_password')\n",
    "password_element.send_keys(\"BNCiUFbV)!%.Gy2\")\n",
    "\n",
    "#add remember me button later\n",
    "\n",
    "#logs you in\n",
    "submit_element = driver.find_element_by_name('commit')\n",
    "submit_element.click()\n",
    "\n",
    "#clicks on a course\n",
    "course1 = driver.find_element_by_css_selector('.courseBox:nth-child(1)')\n",
    "course1.click()\n",
    "\n",
    "#look for homework assignments\n",
    "homework_element = driver.find_element_by_tag_name('tbody')\n",
    "assert \"No results found.\" not in driver.page_source\n",
    "\n",
    "homework_element = driver.find_element_by_name('button')\n",
    "homework_name = homework_element.get_attribute(\"data-assignment-title\")\n",
    "print(homework_name)\n"
   ]
  },
  {
   "cell_type": "code",
   "execution_count": null,
   "metadata": {},
   "outputs": [],
   "source": []
  }
 ],
 "metadata": {
  "kernelspec": {
   "display_name": "Python 3",
   "language": "python",
   "name": "python3"
  },
  "language_info": {
   "codemirror_mode": {
    "name": "ipython",
    "version": 3
   },
   "file_extension": ".py",
   "mimetype": "text/x-python",
   "name": "python",
   "nbconvert_exporter": "python",
   "pygments_lexer": "ipython3",
   "version": "3.7.4"
  }
 },
 "nbformat": 4,
 "nbformat_minor": 2
}
